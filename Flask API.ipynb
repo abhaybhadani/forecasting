{
 "cells": [
  {
   "cell_type": "code",
   "execution_count": null,
   "id": "505e3f5e",
   "metadata": {},
   "outputs": [],
   "source": [
    "from flask import Flask, jsonify, request\n",
    "  \n",
    "import pickle\n",
    "import matplotlib.pyplot as plt\n",
    "import pandas as pd\n",
    "\n",
    "def plot_forecast(series, model, n_steps):\n",
    "    \"\"\"\n",
    "        Plots model vs predicted values\n",
    "        series - dataset with timeseries\n",
    "        model - fitted SARIMA model\n",
    "        n_steps - number of steps to predict in the future\n",
    "        \n",
    "    \"\"\"\n",
    "    # adding model values\n",
    "    data = series.copy()\n",
    "    data.columns = [\"actual\"]\n",
    "    data[\"sarima_model\"] = model.fittedvalues\n",
    "    \n",
    "    # making a shift on s+d steps, because these values were unobserved by the model\n",
    "    # due to the differentiating\n",
    "    data[\"sarima_model\"][: s + 1] = np.NaN\n",
    "\n",
    "    # forecasting on n_steps forward\n",
    "    forecast = model.predict(start=data.shape[0], end=data.shape[0] + n_steps)\n",
    "    forecast = data.sarima_model.append(forecast)\n",
    "    \n",
    "    forecast.index = pd.date_range(data.index.min(), data.index.max() + pd.DateOffset(months=n_steps+1), freq='m')\n",
    "    \n",
    "    plt.figure(figsize=(20, 8))\n",
    "    plt.plot(forecast, color=\"r\", label=\"model\")\n",
    "    plt.axvspan(data.index[-1], forecast.index[-1], alpha=0.5, color=\"lightgrey\")\n",
    "    plt.plot(data.actual, label=\"actual\")\n",
    "    plt.legend()\n",
    "    plt.grid(True)\n",
    "    return (pd.DataFrame(forecast))\n",
    "\n",
    "\n",
    "\n",
    "# creating a Flask app\n",
    "app = Flask(__name__)\n",
    "# load the model from disk\n",
    "model_filename=\"SARIMA_best_model.pkl\"\n",
    "\n",
    "loaded_model = pickle.load(open(model_filename, 'rb'))\n",
    "df_forecast = plot_forecast(df_1[(df_1.MONTH <= 202012)][['VALUE']], loaded_model, 11)[-12:]\n",
    "df_forecast.columns=['pred_values']\n",
    "\n",
    "df_forecast['year'] = df_forecast.index.year\n",
    "df_forecast['month'] = df_forecast.index.month\n",
    "df_forecast.reset_index(inplace=True)\n",
    "\n",
    "\n"
   ]
  },
  {
   "cell_type": "code",
   "execution_count": 7,
   "id": "8da87088",
   "metadata": {},
   "outputs": [],
   "source": []
  },
  {
   "cell_type": "code",
   "execution_count": 55,
   "id": "7ab4b55f",
   "metadata": {},
   "outputs": [
    {
     "name": "stdout",
     "output_type": "stream",
     "text": [
      "{'prediction': 22.01551952256784}\n"
     ]
    }
   ],
   "source": [
    "import requests\n",
    "PARAMS = {'year':'2018', 'month':'1'}\n",
    "URL='http://0.0.0.0:5000/predict'\n",
    "\n",
    "r = requests.post(url = URL, params = PARAMS)\n",
    "print(r.json())"
   ]
  },
  {
   "cell_type": "code",
   "execution_count": null,
   "id": "9ac176ae",
   "metadata": {},
   "outputs": [],
   "source": []
  }
 ],
 "metadata": {
  "kernelspec": {
   "display_name": "Python 3",
   "language": "python",
   "name": "python3"
  },
  "language_info": {
   "codemirror_mode": {
    "name": "ipython",
    "version": 3
   },
   "file_extension": ".py",
   "mimetype": "text/x-python",
   "name": "python",
   "nbconvert_exporter": "python",
   "pygments_lexer": "ipython3",
   "version": "3.9.4"
  }
 },
 "nbformat": 4,
 "nbformat_minor": 5
}
